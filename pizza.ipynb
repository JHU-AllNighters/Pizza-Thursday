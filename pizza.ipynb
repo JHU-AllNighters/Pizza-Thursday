{
 "cells": [
  {
   "cell_type": "code",
   "execution_count": 1,
   "metadata": {},
   "outputs": [
    {
     "data": {
      "application/javascript": [
       "\n",
       "            setTimeout(function() {\n",
       "                var nbb_cell_id = 1;\n",
       "                var nbb_unformatted_code = \"%load_ext nb_black\";\n",
       "                var nbb_formatted_code = \"%load_ext nb_black\";\n",
       "                var nbb_cells = Jupyter.notebook.get_cells();\n",
       "                for (var i = 0; i < nbb_cells.length; ++i) {\n",
       "                    if (nbb_cells[i].input_prompt_number == nbb_cell_id) {\n",
       "                        if (nbb_cells[i].get_text() == nbb_unformatted_code) {\n",
       "                             nbb_cells[i].set_text(nbb_formatted_code);\n",
       "                        }\n",
       "                        break;\n",
       "                    }\n",
       "                }\n",
       "            }, 500);\n",
       "            "
      ],
      "text/plain": [
       "<IPython.core.display.Javascript object>"
      ]
     },
     "metadata": {},
     "output_type": "display_data"
    }
   ],
   "source": [
    "%load_ext nb_black"
   ]
  },
  {
   "cell_type": "code",
   "execution_count": 2,
   "metadata": {},
   "outputs": [
    {
     "data": {
      "application/javascript": [
       "\n",
       "            setTimeout(function() {\n",
       "                var nbb_cell_id = 2;\n",
       "                var nbb_unformatted_code = \"import gspread\\nimport pandas as pd\\nfrom oauth2client.service_account import ServiceAccountCredentials\";\n",
       "                var nbb_formatted_code = \"import gspread\\nimport pandas as pd\\nfrom oauth2client.service_account import ServiceAccountCredentials\";\n",
       "                var nbb_cells = Jupyter.notebook.get_cells();\n",
       "                for (var i = 0; i < nbb_cells.length; ++i) {\n",
       "                    if (nbb_cells[i].input_prompt_number == nbb_cell_id) {\n",
       "                        if (nbb_cells[i].get_text() == nbb_unformatted_code) {\n",
       "                             nbb_cells[i].set_text(nbb_formatted_code);\n",
       "                        }\n",
       "                        break;\n",
       "                    }\n",
       "                }\n",
       "            }, 500);\n",
       "            "
      ],
      "text/plain": [
       "<IPython.core.display.Javascript object>"
      ]
     },
     "metadata": {},
     "output_type": "display_data"
    }
   ],
   "source": [
    "import gspread\n",
    "import pandas as pd\n",
    "from oauth2client.service_account import ServiceAccountCredentials"
   ]
  },
  {
   "cell_type": "code",
   "execution_count": 3,
   "metadata": {},
   "outputs": [
    {
     "data": {
      "application/javascript": [
       "\n",
       "            setTimeout(function() {\n",
       "                var nbb_cell_id = 3;\n",
       "                var nbb_unformatted_code = \"def load_data(spreadsheet, credentials=\\\"key.json\\\"):\\n\\n    # Authorize a client to communicate with the Google API\\n    scope = [\\n        \\\"https://spreadsheets.google.com/feeds\\\",\\n        \\\"https://www.googleapis.com/auth/drive\\\",\\n    ]\\n    creds = ServiceAccountCredentials.from_json_keyfile_name(credentials, scope)\\n    client = gspread.authorize(creds)\\n\\n    # Load the Google sheet as a dictionary\\n    sheet = client.open(spreadsheet).sheet1\\n    sheet = sheet.get_all_records()\\n\\n    # Return pandas dataframe\\n    df = pd.DataFrame(sheet)\\n    return df\";\n",
       "                var nbb_formatted_code = \"def load_data(spreadsheet, credentials=\\\"key.json\\\"):\\n\\n    # Authorize a client to communicate with the Google API\\n    scope = [\\n        \\\"https://spreadsheets.google.com/feeds\\\",\\n        \\\"https://www.googleapis.com/auth/drive\\\",\\n    ]\\n    creds = ServiceAccountCredentials.from_json_keyfile_name(credentials, scope)\\n    client = gspread.authorize(creds)\\n\\n    # Load the Google sheet as a dictionary\\n    sheet = client.open(spreadsheet).sheet1\\n    sheet = sheet.get_all_records()\\n\\n    # Return pandas dataframe\\n    df = pd.DataFrame(sheet)\\n    return df\";\n",
       "                var nbb_cells = Jupyter.notebook.get_cells();\n",
       "                for (var i = 0; i < nbb_cells.length; ++i) {\n",
       "                    if (nbb_cells[i].input_prompt_number == nbb_cell_id) {\n",
       "                        if (nbb_cells[i].get_text() == nbb_unformatted_code) {\n",
       "                             nbb_cells[i].set_text(nbb_formatted_code);\n",
       "                        }\n",
       "                        break;\n",
       "                    }\n",
       "                }\n",
       "            }, 500);\n",
       "            "
      ],
      "text/plain": [
       "<IPython.core.display.Javascript object>"
      ]
     },
     "metadata": {},
     "output_type": "display_data"
    }
   ],
   "source": [
    "def load_data(spreadsheet, credentials=\"key.json\"):\n",
    "\n",
    "    # Authorize a client to communicate with the Google API\n",
    "    scope = [\n",
    "        \"https://spreadsheets.google.com/feeds\",\n",
    "        \"https://www.googleapis.com/auth/drive\",\n",
    "    ]\n",
    "    creds = ServiceAccountCredentials.from_json_keyfile_name(credentials, scope)\n",
    "    client = gspread.authorize(creds)\n",
    "\n",
    "    # Load the Google sheet as a dictionary\n",
    "    sheet = client.open(spreadsheet).sheet1\n",
    "    sheet = sheet.get_all_records()\n",
    "\n",
    "    # Return pandas dataframe\n",
    "    df = pd.DataFrame(sheet)\n",
    "    return df"
   ]
  },
  {
   "cell_type": "code",
   "execution_count": 4,
   "metadata": {},
   "outputs": [
    {
     "data": {
      "text/html": [
       "<div>\n",
       "<style scoped>\n",
       "    .dataframe tbody tr th:only-of-type {\n",
       "        vertical-align: middle;\n",
       "    }\n",
       "\n",
       "    .dataframe tbody tr th {\n",
       "        vertical-align: top;\n",
       "    }\n",
       "\n",
       "    .dataframe thead th {\n",
       "        text-align: right;\n",
       "    }\n",
       "</style>\n",
       "<table border=\"1\" class=\"dataframe\">\n",
       "  <thead>\n",
       "    <tr style=\"text-align: right;\">\n",
       "      <th></th>\n",
       "      <th>Item</th>\n",
       "      <th>Price</th>\n",
       "      <th>People</th>\n",
       "    </tr>\n",
       "  </thead>\n",
       "  <tbody>\n",
       "    <tr>\n",
       "      <th>0</th>\n",
       "      <td>Philly Steak + Onion</td>\n",
       "      <td>7.99</td>\n",
       "      <td>Sebastian, Vivek</td>\n",
       "    </tr>\n",
       "    <tr>\n",
       "      <th>1</th>\n",
       "      <td>Lava</td>\n",
       "      <td>3.00</td>\n",
       "      <td>Sebastian</td>\n",
       "    </tr>\n",
       "    <tr>\n",
       "      <th>2</th>\n",
       "      <td>Lava</td>\n",
       "      <td>3.00</td>\n",
       "      <td>Sebastian</td>\n",
       "    </tr>\n",
       "    <tr>\n",
       "      <th>3</th>\n",
       "      <td>Lava</td>\n",
       "      <td>3.00</td>\n",
       "      <td>Sebastian, Yovel</td>\n",
       "    </tr>\n",
       "    <tr>\n",
       "      <th>4</th>\n",
       "      <td>Cheese Pizza</td>\n",
       "      <td>5.99</td>\n",
       "      <td>Fallon, Yoobin</td>\n",
       "    </tr>\n",
       "    <tr>\n",
       "      <th>5</th>\n",
       "      <td>Meatzza</td>\n",
       "      <td>5.99</td>\n",
       "      <td>Stephen, Owen</td>\n",
       "    </tr>\n",
       "    <tr>\n",
       "      <th>6</th>\n",
       "      <td>Cheezy Bread</td>\n",
       "      <td>5.99</td>\n",
       "      <td>Lucas, Vivek</td>\n",
       "    </tr>\n",
       "    <tr>\n",
       "      <th>7</th>\n",
       "      <td>Garlic Dipping Sauce</td>\n",
       "      <td>0.50</td>\n",
       "      <td>Sebastian</td>\n",
       "    </tr>\n",
       "    <tr>\n",
       "      <th>8</th>\n",
       "      <td>Taxes</td>\n",
       "      <td>2.31</td>\n",
       "      <td>All</td>\n",
       "    </tr>\n",
       "    <tr>\n",
       "      <th>9</th>\n",
       "      <td>Tip</td>\n",
       "      <td>6.56</td>\n",
       "      <td>All</td>\n",
       "    </tr>\n",
       "    <tr>\n",
       "      <th>10</th>\n",
       "      <td>Delivery Fee</td>\n",
       "      <td>2.99</td>\n",
       "      <td>All</td>\n",
       "    </tr>\n",
       "  </tbody>\n",
       "</table>\n",
       "</div>"
      ],
      "text/plain": [
       "                    Item  Price            People\n",
       "0   Philly Steak + Onion   7.99  Sebastian, Vivek\n",
       "1                   Lava   3.00         Sebastian\n",
       "2                   Lava   3.00         Sebastian\n",
       "3                   Lava   3.00  Sebastian, Yovel\n",
       "4           Cheese Pizza   5.99    Fallon, Yoobin\n",
       "5                Meatzza   5.99     Stephen, Owen\n",
       "6           Cheezy Bread   5.99      Lucas, Vivek\n",
       "7   Garlic Dipping Sauce   0.50         Sebastian\n",
       "8                  Taxes   2.31               All\n",
       "9                    Tip   6.56               All\n",
       "10          Delivery Fee   2.99               All"
      ]
     },
     "execution_count": 4,
     "metadata": {},
     "output_type": "execute_result"
    },
    {
     "data": {
      "application/javascript": [
       "\n",
       "            setTimeout(function() {\n",
       "                var nbb_cell_id = 4;\n",
       "                var nbb_unformatted_code = \"pizza = load_data(\\\"2020/02/06\\\")\\npizza[\\\"Price\\\"] = pizza[\\\"Price\\\"].replace(\\\"[\\\\$,]\\\", \\\"\\\", regex=True).astype(float)\\npizza\";\n",
       "                var nbb_formatted_code = \"pizza = load_data(\\\"2020/02/06\\\")\\npizza[\\\"Price\\\"] = pizza[\\\"Price\\\"].replace(\\\"[\\\\$,]\\\", \\\"\\\", regex=True).astype(float)\\npizza\";\n",
       "                var nbb_cells = Jupyter.notebook.get_cells();\n",
       "                for (var i = 0; i < nbb_cells.length; ++i) {\n",
       "                    if (nbb_cells[i].input_prompt_number == nbb_cell_id) {\n",
       "                        if (nbb_cells[i].get_text() == nbb_unformatted_code) {\n",
       "                             nbb_cells[i].set_text(nbb_formatted_code);\n",
       "                        }\n",
       "                        break;\n",
       "                    }\n",
       "                }\n",
       "            }, 500);\n",
       "            "
      ],
      "text/plain": [
       "<IPython.core.display.Javascript object>"
      ]
     },
     "metadata": {},
     "output_type": "display_data"
    }
   ],
   "source": [
    "pizza = load_data(\"2020/02/06\")\n",
    "pizza[\"Price\"] = pizza[\"Price\"].replace(\"[\\$,]\", \"\", regex=True).astype(float)\n",
    "pizza"
   ]
  },
  {
   "cell_type": "code",
   "execution_count": 5,
   "metadata": {},
   "outputs": [
    {
     "data": {
      "application/javascript": [
       "\n",
       "            setTimeout(function() {\n",
       "                var nbb_cell_id = 5;\n",
       "                var nbb_unformatted_code = \"def _get_attendees(df, people_col):\\n\\n    attendees = []\\n\\n    for people in df[people_col]:\\n        if people == \\\"All\\\":\\n            continue\\n\\n        for person in people.split(\\\",\\\"):\\n            person = person.lstrip()\\n            if person in attendees:\\n                continue\\n            else:\\n                attendees.append(person)\\n\\n    return attendees\";\n",
       "                var nbb_formatted_code = \"def _get_attendees(df, people_col):\\n\\n    attendees = []\\n\\n    for people in df[people_col]:\\n        if people == \\\"All\\\":\\n            continue\\n\\n        for person in people.split(\\\",\\\"):\\n            person = person.lstrip()\\n            if person in attendees:\\n                continue\\n            else:\\n                attendees.append(person)\\n\\n    return attendees\";\n",
       "                var nbb_cells = Jupyter.notebook.get_cells();\n",
       "                for (var i = 0; i < nbb_cells.length; ++i) {\n",
       "                    if (nbb_cells[i].input_prompt_number == nbb_cell_id) {\n",
       "                        if (nbb_cells[i].get_text() == nbb_unformatted_code) {\n",
       "                             nbb_cells[i].set_text(nbb_formatted_code);\n",
       "                        }\n",
       "                        break;\n",
       "                    }\n",
       "                }\n",
       "            }, 500);\n",
       "            "
      ],
      "text/plain": [
       "<IPython.core.display.Javascript object>"
      ]
     },
     "metadata": {},
     "output_type": "display_data"
    }
   ],
   "source": [
    "def _get_attendees(df, people_col):\n",
    "\n",
    "    attendees = []\n",
    "\n",
    "    for people in df[people_col]:\n",
    "        if people == \"All\":\n",
    "            continue\n",
    "\n",
    "        for person in people.split(\",\"):\n",
    "            person = person.lstrip()\n",
    "            if person in attendees:\n",
    "                continue\n",
    "            else:\n",
    "                attendees.append(person)\n",
    "\n",
    "    return attendees"
   ]
  },
  {
   "cell_type": "code",
   "execution_count": 6,
   "metadata": {},
   "outputs": [
    {
     "data": {
      "application/javascript": [
       "\n",
       "            setTimeout(function() {\n",
       "                var nbb_cell_id = 6;\n",
       "                var nbb_unformatted_code = \"def _get_individual_cost(df, name, people_col, price_col):\\n\\n    subset = df[df[people_col].str.contains(name)]\\n\\n    cost = 0\\n\\n    for _, (_, price, people) in subset.iterrows():\\n        n_participants = len(people.split(\\\",\\\"))\\n        cost += price / n_participants\\n\\n    return cost\";\n",
       "                var nbb_formatted_code = \"def _get_individual_cost(df, name, people_col, price_col):\\n\\n    subset = df[df[people_col].str.contains(name)]\\n\\n    cost = 0\\n\\n    for _, (_, price, people) in subset.iterrows():\\n        n_participants = len(people.split(\\\",\\\"))\\n        cost += price / n_participants\\n\\n    return cost\";\n",
       "                var nbb_cells = Jupyter.notebook.get_cells();\n",
       "                for (var i = 0; i < nbb_cells.length; ++i) {\n",
       "                    if (nbb_cells[i].input_prompt_number == nbb_cell_id) {\n",
       "                        if (nbb_cells[i].get_text() == nbb_unformatted_code) {\n",
       "                             nbb_cells[i].set_text(nbb_formatted_code);\n",
       "                        }\n",
       "                        break;\n",
       "                    }\n",
       "                }\n",
       "            }, 500);\n",
       "            "
      ],
      "text/plain": [
       "<IPython.core.display.Javascript object>"
      ]
     },
     "metadata": {},
     "output_type": "display_data"
    }
   ],
   "source": [
    "def _get_individual_cost(df, name, people_col, price_col):\n",
    "\n",
    "    subset = df[df[people_col].str.contains(name)]\n",
    "\n",
    "    cost = 0\n",
    "\n",
    "    for _, (_, price, people) in subset.iterrows():\n",
    "        n_participants = len(people.split(\",\"))\n",
    "        cost += price / n_participants\n",
    "\n",
    "    return cost"
   ]
  },
  {
   "cell_type": "code",
   "execution_count": 7,
   "metadata": {},
   "outputs": [
    {
     "data": {
      "application/javascript": [
       "\n",
       "            setTimeout(function() {\n",
       "                var nbb_cell_id = 7;\n",
       "                var nbb_unformatted_code = \"def _get_group_cost(df, cost_dict, people_col, price_col):\\n\\n    # Get individual and group data sets\\n    individual = df.query(f\\\"{people_col} != 'All'\\\")\\n    group = df.query(f\\\"{people_col} == 'All'\\\")\\n\\n    # Get number of attendees\\n    n_attendees = len(cost_dict)\\n\\n    # Get total individual costs (the subtotal) and additional costs\\n    subtotal = sum(individual[price_col])\\n    additional = sum(group[price_col])\\n\\n    # Proportionally add additional costs\\n    for person, cost in cost_dict.items():\\n        proportion_of_subtotal = cost / subtotal\\n        cost_dict[person] += proportion_of_subtotal * additional\\n\\n    return cost_dict\";\n",
       "                var nbb_formatted_code = \"def _get_group_cost(df, cost_dict, people_col, price_col):\\n\\n    # Get individual and group data sets\\n    individual = df.query(f\\\"{people_col} != 'All'\\\")\\n    group = df.query(f\\\"{people_col} == 'All'\\\")\\n\\n    # Get number of attendees\\n    n_attendees = len(cost_dict)\\n\\n    # Get total individual costs (the subtotal) and additional costs\\n    subtotal = sum(individual[price_col])\\n    additional = sum(group[price_col])\\n\\n    # Proportionally add additional costs\\n    for person, cost in cost_dict.items():\\n        proportion_of_subtotal = cost / subtotal\\n        cost_dict[person] += proportion_of_subtotal * additional\\n\\n    return cost_dict\";\n",
       "                var nbb_cells = Jupyter.notebook.get_cells();\n",
       "                for (var i = 0; i < nbb_cells.length; ++i) {\n",
       "                    if (nbb_cells[i].input_prompt_number == nbb_cell_id) {\n",
       "                        if (nbb_cells[i].get_text() == nbb_unformatted_code) {\n",
       "                             nbb_cells[i].set_text(nbb_formatted_code);\n",
       "                        }\n",
       "                        break;\n",
       "                    }\n",
       "                }\n",
       "            }, 500);\n",
       "            "
      ],
      "text/plain": [
       "<IPython.core.display.Javascript object>"
      ]
     },
     "metadata": {},
     "output_type": "display_data"
    }
   ],
   "source": [
    "def _get_group_cost(df, cost_dict, people_col, price_col):\n",
    "\n",
    "    # Get individual and group data sets\n",
    "    individual = df.query(f\"{people_col} != 'All'\")\n",
    "    group = df.query(f\"{people_col} == 'All'\")\n",
    "\n",
    "    # Get number of attendees\n",
    "    n_attendees = len(cost_dict)\n",
    "\n",
    "    # Get total individual costs (the subtotal) and additional costs\n",
    "    subtotal = sum(individual[price_col])\n",
    "    additional = sum(group[price_col])\n",
    "\n",
    "    # Proportionally add additional costs\n",
    "    for person, cost in cost_dict.items():\n",
    "        proportion_of_subtotal = cost / subtotal\n",
    "        cost_dict[person] += proportion_of_subtotal * additional\n",
    "\n",
    "    return cost_dict"
   ]
  },
  {
   "cell_type": "code",
   "execution_count": 8,
   "metadata": {},
   "outputs": [
    {
     "data": {
      "application/javascript": [
       "\n",
       "            setTimeout(function() {\n",
       "                var nbb_cell_id = 8;\n",
       "                var nbb_unformatted_code = \"def _make_pretty(cost_dict):\\n    for person, cost in cost_dict.items():\\n        cost_dict[person] = round(cost, 2)\\n\\n    return cost_dict\";\n",
       "                var nbb_formatted_code = \"def _make_pretty(cost_dict):\\n    for person, cost in cost_dict.items():\\n        cost_dict[person] = round(cost, 2)\\n\\n    return cost_dict\";\n",
       "                var nbb_cells = Jupyter.notebook.get_cells();\n",
       "                for (var i = 0; i < nbb_cells.length; ++i) {\n",
       "                    if (nbb_cells[i].input_prompt_number == nbb_cell_id) {\n",
       "                        if (nbb_cells[i].get_text() == nbb_unformatted_code) {\n",
       "                             nbb_cells[i].set_text(nbb_formatted_code);\n",
       "                        }\n",
       "                        break;\n",
       "                    }\n",
       "                }\n",
       "            }, 500);\n",
       "            "
      ],
      "text/plain": [
       "<IPython.core.display.Javascript object>"
      ]
     },
     "metadata": {},
     "output_type": "display_data"
    }
   ],
   "source": [
    "def _make_pretty(cost_dict):\n",
    "    for person, cost in cost_dict.items():\n",
    "        cost_dict[person] = round(cost, 2)\n",
    "    return cost_dict"
   ]
  },
  {
   "cell_type": "code",
   "execution_count": 9,
   "metadata": {},
   "outputs": [
    {
     "data": {
      "application/javascript": [
       "\n",
       "            setTimeout(function() {\n",
       "                var nbb_cell_id = 9;\n",
       "                var nbb_unformatted_code = \"def main(df, people_col, price_col):\\n\\n    # Get attendees\\n    attendees = _get_attendees(df, people_col)\\n\\n    # Estimate prelimary cost dictionary\\n    cost_dict = dict()\\n    for attendee in attendees:\\n        cost = _get_individual_cost(df, attendee, people_col, price_col)\\n        cost_dict[attendee] = cost\\n\\n    # Include delivery fee, tax, and tip\\n    cost_dict = _get_group_cost(df, cost_dict, people_col, price_col)\\n    cost_dict = _make_pretty(cost_dict)\\n\\n    return cost_dict\";\n",
       "                var nbb_formatted_code = \"def main(df, people_col, price_col):\\n\\n    # Get attendees\\n    attendees = _get_attendees(df, people_col)\\n\\n    # Estimate prelimary cost dictionary\\n    cost_dict = dict()\\n    for attendee in attendees:\\n        cost = _get_individual_cost(df, attendee, people_col, price_col)\\n        cost_dict[attendee] = cost\\n\\n    # Include delivery fee, tax, and tip\\n    cost_dict = _get_group_cost(df, cost_dict, people_col, price_col)\\n    cost_dict = _make_pretty(cost_dict)\\n\\n    return cost_dict\";\n",
       "                var nbb_cells = Jupyter.notebook.get_cells();\n",
       "                for (var i = 0; i < nbb_cells.length; ++i) {\n",
       "                    if (nbb_cells[i].input_prompt_number == nbb_cell_id) {\n",
       "                        if (nbb_cells[i].get_text() == nbb_unformatted_code) {\n",
       "                             nbb_cells[i].set_text(nbb_formatted_code);\n",
       "                        }\n",
       "                        break;\n",
       "                    }\n",
       "                }\n",
       "            }, 500);\n",
       "            "
      ],
      "text/plain": [
       "<IPython.core.display.Javascript object>"
      ]
     },
     "metadata": {},
     "output_type": "display_data"
    }
   ],
   "source": [
    "def main(df, people_col, price_col):\n",
    "\n",
    "    # Get attendees\n",
    "    attendees = _get_attendees(df, people_col)\n",
    "\n",
    "    # Estimate prelimary cost dictionary\n",
    "    cost_dict = dict()\n",
    "    for attendee in attendees:\n",
    "        cost = _get_individual_cost(df, attendee, people_col, price_col)\n",
    "        cost_dict[attendee] = cost\n",
    "\n",
    "    # Include delivery fee, tax, and tip\n",
    "    cost_dict = _get_group_cost(df, cost_dict, people_col, price_col)\n",
    "    cost_dict = _make_pretty(cost_dict)\n",
    "\n",
    "    return cost_dict"
   ]
  },
  {
   "cell_type": "code",
   "execution_count": 10,
   "metadata": {},
   "outputs": [
    {
     "data": {
      "text/plain": [
       "{'Sebastian': 16.01,\n",
       " 'Vivek': 9.33,\n",
       " 'Yovel': 2.0,\n",
       " 'Fallon': 4.0,\n",
       " 'Yoobin': 4.0,\n",
       " 'Stephen': 4.0,\n",
       " 'Owen': 4.0,\n",
       " 'Lucas': 4.0}"
      ]
     },
     "execution_count": 10,
     "metadata": {},
     "output_type": "execute_result"
    },
    {
     "data": {
      "application/javascript": [
       "\n",
       "            setTimeout(function() {\n",
       "                var nbb_cell_id = 10;\n",
       "                var nbb_unformatted_code = \"main(pizza, \\\"People\\\", \\\"Price\\\")\";\n",
       "                var nbb_formatted_code = \"main(pizza, \\\"People\\\", \\\"Price\\\")\";\n",
       "                var nbb_cells = Jupyter.notebook.get_cells();\n",
       "                for (var i = 0; i < nbb_cells.length; ++i) {\n",
       "                    if (nbb_cells[i].input_prompt_number == nbb_cell_id) {\n",
       "                        if (nbb_cells[i].get_text() == nbb_unformatted_code) {\n",
       "                             nbb_cells[i].set_text(nbb_formatted_code);\n",
       "                        }\n",
       "                        break;\n",
       "                    }\n",
       "                }\n",
       "            }, 500);\n",
       "            "
      ],
      "text/plain": [
       "<IPython.core.display.Javascript object>"
      ]
     },
     "metadata": {},
     "output_type": "display_data"
    }
   ],
   "source": [
    "main(pizza, \"People\", \"Price\")"
   ]
  },
  {
   "cell_type": "code",
   "execution_count": null,
   "metadata": {},
   "outputs": [],
   "source": []
  }
 ],
 "metadata": {
  "kernelspec": {
   "display_name": "Python [conda env:pizza] *",
   "language": "python",
   "name": "conda-env-pizza-py"
  },
  "language_info": {
   "codemirror_mode": {
    "name": "ipython",
    "version": 3
   },
   "file_extension": ".py",
   "mimetype": "text/x-python",
   "name": "python",
   "nbconvert_exporter": "python",
   "pygments_lexer": "ipython3",
   "version": "3.8.1"
  },
  "varInspector": {
   "cols": {
    "lenName": 16,
    "lenType": 16,
    "lenVar": 40
   },
   "kernels_config": {
    "python": {
     "delete_cmd_postfix": "",
     "delete_cmd_prefix": "del ",
     "library": "var_list.py",
     "varRefreshCmd": "print(var_dic_list())"
    },
    "r": {
     "delete_cmd_postfix": ") ",
     "delete_cmd_prefix": "rm(",
     "library": "var_list.r",
     "varRefreshCmd": "cat(var_dic_list()) "
    }
   },
   "types_to_exclude": [
    "module",
    "function",
    "builtin_function_or_method",
    "instance",
    "_Feature"
   ],
   "window_display": false
  }
 },
 "nbformat": 4,
 "nbformat_minor": 4
}
