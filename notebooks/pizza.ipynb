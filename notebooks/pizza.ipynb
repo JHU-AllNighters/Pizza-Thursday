{
 "cells": [
  {
   "cell_type": "code",
   "execution_count": 1,
   "metadata": {},
   "outputs": [
    {
     "output_type": "display_data",
     "data": {
      "text/plain": "<IPython.core.display.Javascript object>",
      "application/javascript": "\n            setTimeout(function() {\n                var nbb_cell_id = 1;\n                var nbb_unformatted_code = \"%load_ext nb_black\";\n                var nbb_formatted_code = \"%load_ext nb_black\";\n                var nbb_cells = Jupyter.notebook.get_cells();\n                for (var i = 0; i < nbb_cells.length; ++i) {\n                    if (nbb_cells[i].input_prompt_number == nbb_cell_id) {\n                        if (nbb_cells[i].get_text() == nbb_unformatted_code) {\n                             nbb_cells[i].set_text(nbb_formatted_code);\n                        }\n                        break;\n                    }\n                }\n            }, 500);\n            "
     },
     "metadata": {}
    }
   ],
   "source": [
    "%load_ext nb_black"
   ]
  },
  {
   "cell_type": "code",
   "execution_count": 2,
   "metadata": {},
   "outputs": [
    {
     "output_type": "display_data",
     "data": {
      "text/plain": "<IPython.core.display.Javascript object>",
      "application/javascript": "\n            setTimeout(function() {\n                var nbb_cell_id = 2;\n                var nbb_unformatted_code = \"import pandas as pd\\n\\nfrom src import read_gsheet, parse_dataframe\";\n                var nbb_formatted_code = \"import pandas as pd\\n\\nfrom src import read_gsheet, parse_dataframe\";\n                var nbb_cells = Jupyter.notebook.get_cells();\n                for (var i = 0; i < nbb_cells.length; ++i) {\n                    if (nbb_cells[i].input_prompt_number == nbb_cell_id) {\n                        if (nbb_cells[i].get_text() == nbb_unformatted_code) {\n                             nbb_cells[i].set_text(nbb_formatted_code);\n                        }\n                        break;\n                    }\n                }\n            }, 500);\n            "
     },
     "metadata": {}
    }
   ],
   "source": [
    "import pandas as pd\n",
    "\n",
    "from src import read_gsheet, parse_dataframe"
   ]
  },
  {
   "cell_type": "code",
   "execution_count": 3,
   "metadata": {},
   "outputs": [
    {
     "output_type": "execute_result",
     "data": {
      "text/plain": "                      Price            People\nItem                                         \nPhilly Steak + Onion   7.99  Sebastian, Vivek\nLava                   3.00         Sebastian\nLava                   3.00         Sebastian\nLava                   3.00  Sebastian, Yovel\nCheese Pizza           5.99    Fallon, Yoobin\nMeatzza                5.99     Stephen, Owen\nCheezy Bread           5.99      Lucas, Vivek\nGarlic Dipping Sauce   0.50         Sebastian\nTaxes                  2.31               All\nTip                    6.56               All\nDelivery Fee           2.99               All",
      "text/html": "<div>\n<style scoped>\n    .dataframe tbody tr th:only-of-type {\n        vertical-align: middle;\n    }\n\n    .dataframe tbody tr th {\n        vertical-align: top;\n    }\n\n    .dataframe thead th {\n        text-align: right;\n    }\n</style>\n<table border=\"1\" class=\"dataframe\">\n  <thead>\n    <tr style=\"text-align: right;\">\n      <th></th>\n      <th>Price</th>\n      <th>People</th>\n    </tr>\n    <tr>\n      <th>Item</th>\n      <th></th>\n      <th></th>\n    </tr>\n  </thead>\n  <tbody>\n    <tr>\n      <th>Philly Steak + Onion</th>\n      <td>7.99</td>\n      <td>Sebastian, Vivek</td>\n    </tr>\n    <tr>\n      <th>Lava</th>\n      <td>3.00</td>\n      <td>Sebastian</td>\n    </tr>\n    <tr>\n      <th>Lava</th>\n      <td>3.00</td>\n      <td>Sebastian</td>\n    </tr>\n    <tr>\n      <th>Lava</th>\n      <td>3.00</td>\n      <td>Sebastian, Yovel</td>\n    </tr>\n    <tr>\n      <th>Cheese Pizza</th>\n      <td>5.99</td>\n      <td>Fallon, Yoobin</td>\n    </tr>\n    <tr>\n      <th>Meatzza</th>\n      <td>5.99</td>\n      <td>Stephen, Owen</td>\n    </tr>\n    <tr>\n      <th>Cheezy Bread</th>\n      <td>5.99</td>\n      <td>Lucas, Vivek</td>\n    </tr>\n    <tr>\n      <th>Garlic Dipping Sauce</th>\n      <td>0.50</td>\n      <td>Sebastian</td>\n    </tr>\n    <tr>\n      <th>Taxes</th>\n      <td>2.31</td>\n      <td>All</td>\n    </tr>\n    <tr>\n      <th>Tip</th>\n      <td>6.56</td>\n      <td>All</td>\n    </tr>\n    <tr>\n      <th>Delivery Fee</th>\n      <td>2.99</td>\n      <td>All</td>\n    </tr>\n  </tbody>\n</table>\n</div>"
     },
     "metadata": {},
     "execution_count": 3
    },
    {
     "output_type": "display_data",
     "data": {
      "text/plain": "<IPython.core.display.Javascript object>",
      "application/javascript": "\n            setTimeout(function() {\n                var nbb_cell_id = 3;\n                var nbb_unformatted_code = \"shared_url = \\\"https://docs.google.com/spreadsheets/d/15sRWR32As-zwODK8xBzQQ_1bOPcOchY2jD7_9_omGCY/edit?usp=sharing\\\"\\npizza = read_gsheet(shared_url)\\npizza\";\n                var nbb_formatted_code = \"shared_url = \\\"https://docs.google.com/spreadsheets/d/15sRWR32As-zwODK8xBzQQ_1bOPcOchY2jD7_9_omGCY/edit?usp=sharing\\\"\\npizza = read_gsheet(shared_url)\\npizza\";\n                var nbb_cells = Jupyter.notebook.get_cells();\n                for (var i = 0; i < nbb_cells.length; ++i) {\n                    if (nbb_cells[i].input_prompt_number == nbb_cell_id) {\n                        if (nbb_cells[i].get_text() == nbb_unformatted_code) {\n                             nbb_cells[i].set_text(nbb_formatted_code);\n                        }\n                        break;\n                    }\n                }\n            }, 500);\n            "
     },
     "metadata": {}
    }
   ],
   "source": [
    "shared_url = \"https://docs.google.com/spreadsheets/d/15sRWR32As-zwODK8xBzQQ_1bOPcOchY2jD7_9_omGCY/edit?usp=sharing\"\n",
    "pizza = read_gsheet(shared_url)\n",
    "pizza"
   ]
  },
  {
   "cell_type": "code",
   "execution_count": 4,
   "metadata": {},
   "outputs": [
    {
     "output_type": "execute_result",
     "data": {
      "text/plain": "{'Sebastian': 16.01,\n 'Vivek': 9.33,\n 'Yovel': 2.0,\n 'Fallon': 4.0,\n 'Yoobin': 4.0,\n 'Stephen': 4.0,\n 'Owen': 4.0,\n 'Lucas': 4.0}"
     },
     "metadata": {},
     "execution_count": 4
    },
    {
     "output_type": "display_data",
     "data": {
      "text/plain": "<IPython.core.display.Javascript object>",
      "application/javascript": "\n            setTimeout(function() {\n                var nbb_cell_id = 4;\n                var nbb_unformatted_code = \"parse_dataframe(pizza, \\\"People\\\", \\\"Price\\\")\";\n                var nbb_formatted_code = \"parse_dataframe(pizza, \\\"People\\\", \\\"Price\\\")\";\n                var nbb_cells = Jupyter.notebook.get_cells();\n                for (var i = 0; i < nbb_cells.length; ++i) {\n                    if (nbb_cells[i].input_prompt_number == nbb_cell_id) {\n                        if (nbb_cells[i].get_text() == nbb_unformatted_code) {\n                             nbb_cells[i].set_text(nbb_formatted_code);\n                        }\n                        break;\n                    }\n                }\n            }, 500);\n            "
     },
     "metadata": {}
    }
   ],
   "source": [
    "parse_dataframe(pizza, \"People\", \"Price\")"
   ]
  }
 ],
 "metadata": {
  "kernelspec": {
   "display_name": "Python 3.8.1 64-bit ('pizza': conda)",
   "language": "python",
   "name": "python38164bitpizzaconda240a023dbe5846dba24f49276806eed0"
  },
  "language_info": {
   "codemirror_mode": {
    "name": "ipython",
    "version": 3
   },
   "file_extension": ".py",
   "mimetype": "text/x-python",
   "name": "python",
   "nbconvert_exporter": "python",
   "pygments_lexer": "ipython3",
   "version": "3.8.1-final"
  },
  "varInspector": {
   "cols": {
    "lenName": 16,
    "lenType": 16,
    "lenVar": 40
   },
   "kernels_config": {
    "python": {
     "delete_cmd_postfix": "",
     "delete_cmd_prefix": "del ",
     "library": "var_list.py",
     "varRefreshCmd": "print(var_dic_list())"
    },
    "r": {
     "delete_cmd_postfix": ") ",
     "delete_cmd_prefix": "rm(",
     "library": "var_list.r",
     "varRefreshCmd": "cat(var_dic_list()) "
    }
   },
   "types_to_exclude": [
    "module",
    "function",
    "builtin_function_or_method",
    "instance",
    "_Feature"
   ],
   "window_display": false
  }
 },
 "nbformat": 4,
 "nbformat_minor": 4
}